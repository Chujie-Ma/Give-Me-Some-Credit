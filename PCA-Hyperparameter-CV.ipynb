{
 "cells": [
  {
   "cell_type": "code",
   "execution_count": 1,
   "id": "46a69c97",
   "metadata": {
    "_cell_guid": "b1076dfc-b9ad-4769-8c92-a6c4dae69d19",
    "_uuid": "8f2839f25d086af736a60e9eeb907d3b93b6e0e5",
    "execution": {
     "iopub.execute_input": "2023-03-28T07:52:33.268099Z",
     "iopub.status.busy": "2023-03-28T07:52:33.267689Z",
     "iopub.status.idle": "2023-03-28T07:52:33.283371Z",
     "shell.execute_reply": "2023-03-28T07:52:33.281575Z"
    },
    "papermill": {
     "duration": 0.023818,
     "end_time": "2023-03-28T07:52:33.286138",
     "exception": false,
     "start_time": "2023-03-28T07:52:33.262320",
     "status": "completed"
    },
    "tags": []
   },
   "outputs": [
    {
     "name": "stdout",
     "output_type": "stream",
     "text": [
      "/kaggle/input/GiveMeSomeCredit/Data Dictionary.xls\n",
      "/kaggle/input/GiveMeSomeCredit/cs-training.csv\n",
      "/kaggle/input/GiveMeSomeCredit/sampleEntry.csv\n",
      "/kaggle/input/GiveMeSomeCredit/cs-test.csv\n"
     ]
    }
   ],
   "source": [
    "# This Python 3 environment comes with many helpful analytics libraries installed\n",
    "# It is defined by the kaggle/python Docker image: https://github.com/kaggle/docker-python\n",
    "# For example, here's several helpful packages to load\n",
    "\n",
    "import numpy as np # linear algebra\n",
    "import pandas as pd # data processing, CSV file I/O (e.g. pd.read_csv)\n",
    "\n",
    "# Input data files are available in the read-only \"../input/\" directory\n",
    "# For example, running this (by clicking run or pressing Shift+Enter) will list all files under the input directory\n",
    "\n",
    "import os\n",
    "for dirname, _, filenames in os.walk('/kaggle/input'):\n",
    "    for filename in filenames:\n",
    "        print(os.path.join(dirname, filename))\n",
    "\n",
    "# You can write up to 20GB to the current directory (/kaggle/working/) that gets preserved as output when you create a version using \"Save & Run All\" \n",
    "# You can also write temporary files to /kaggle/temp/, but they won't be saved outside of the current session"
   ]
  },
  {
   "cell_type": "code",
   "execution_count": 2,
   "id": "58247a92",
   "metadata": {
    "execution": {
     "iopub.execute_input": "2023-03-28T07:52:33.293325Z",
     "iopub.status.busy": "2023-03-28T07:52:33.292667Z",
     "iopub.status.idle": "2023-03-28T07:52:34.499100Z",
     "shell.execute_reply": "2023-03-28T07:52:34.497910Z"
    },
    "papermill": {
     "duration": 1.21294,
     "end_time": "2023-03-28T07:52:34.501920",
     "exception": false,
     "start_time": "2023-03-28T07:52:33.288980",
     "status": "completed"
    },
    "tags": []
   },
   "outputs": [],
   "source": [
    "import os\n",
    "import gc\n",
    "import warnings\n",
    "warnings.filterwarnings('ignore')\n",
    "import random\n",
    "import numpy as np\n",
    "import pandas as pd\n",
    "import joblib\n",
    "import matplotlib.pyplot as plt\n",
    "from sklearn.preprocessing import StandardScaler\n",
    "from sklearn.model_selection import train_test_split\n",
    "from sklearn.decomposition import PCA\n",
    "from sklearn.pipeline import make_pipeline\n",
    "from sklearn.svm import SVC\n",
    "from sklearn.model_selection import GridSearchCV"
   ]
  },
  {
   "cell_type": "code",
   "execution_count": 3,
   "id": "712594c1",
   "metadata": {
    "execution": {
     "iopub.execute_input": "2023-03-28T07:52:34.509243Z",
     "iopub.status.busy": "2023-03-28T07:52:34.508381Z",
     "iopub.status.idle": "2023-03-28T07:52:34.934142Z",
     "shell.execute_reply": "2023-03-28T07:52:34.932952Z"
    },
    "papermill": {
     "duration": 0.432305,
     "end_time": "2023-03-28T07:52:34.936959",
     "exception": false,
     "start_time": "2023-03-28T07:52:34.504654",
     "status": "completed"
    },
    "tags": []
   },
   "outputs": [],
   "source": [
    "cs_train = pd.read_csv('/kaggle/input/GiveMeSomeCredit/cs-training.csv')\n",
    "train_process = cs_train.fillna(cs_train.mean())\n",
    "features = train_process.columns[2:13]\n",
    "X = train_process[features]\n",
    "y = train_process['SeriousDlqin2yrs']\n",
    "X_train, X_test, y_train, y_test = train_test_split(\n",
    "    X, y, test_size=0.3, stratify=y,random_state=0)\n",
    "sc = StandardScaler()\n",
    "X_train_std = sc.fit_transform(X_train)\n",
    "X_test_std = sc.transform(X_test)"
   ]
  },
  {
   "cell_type": "code",
   "execution_count": 4,
   "id": "91830874",
   "metadata": {
    "execution": {
     "iopub.execute_input": "2023-03-28T07:52:34.944597Z",
     "iopub.status.busy": "2023-03-28T07:52:34.943742Z",
     "iopub.status.idle": "2023-03-28T07:52:35.256417Z",
     "shell.execute_reply": "2023-03-28T07:52:35.255422Z"
    },
    "papermill": {
     "duration": 0.319062,
     "end_time": "2023-03-28T07:52:35.258881",
     "exception": false,
     "start_time": "2023-03-28T07:52:34.939819",
     "status": "completed"
    },
    "tags": []
   },
   "outputs": [
    {
     "data": {
      "text/plain": [
       "array([0.29944594, 0.15268374, 0.12233918, 0.10093157, 0.10012884,\n",
       "       0.09386178, 0.07368563, 0.05450378, 0.00173201, 0.00068753])"
      ]
     },
     "metadata": {},
     "output_type": "display_data"
    },
    {
     "data": {
      "image/png": "[encoded data removed]",
      "text/plain": [
       "<Figure size 640x480 with 1 Axes>"
      ]
     },
     "metadata": {},
     "output_type": "display_data"
    }
   ],
   "source": [
    "pca = PCA()\n",
    "X_train_pca = pca.fit_transform(X_train_std)\n",
    "pca.explained_variance_ratio_\n",
    "display(pca.explained_variance_ratio_)\n",
    "plt.bar(range(1, 11), pca.explained_variance_ratio_, alpha=0.5, align='center')\n",
    "plt.step(range(1, 11), np.cumsum(pca.explained_variance_ratio_), where='mid')\n",
    "plt.ylabel('Explained variance ratio')\n",
    "plt.xlabel('Principal components')\n",
    "\n",
    "plt.show()"
   ]
  },
  {
   "cell_type": "markdown",
   "id": "7f2af235",
   "metadata": {
    "papermill": {
     "duration": 0.002866,
     "end_time": "2023-03-28T07:52:35.265142",
     "exception": false,
     "start_time": "2023-03-28T07:52:35.262276",
     "status": "completed"
    },
    "tags": []
   },
   "source": [
    "# The resulting plot indicates that the first principal component alone accounts for approximately 30 percent of the variance. We can see that the first seven principal components combined explain almost 90 percent of the variance in the dataset. So I choose the first seven features to train the model"
   ]
  },
  {
   "cell_type": "code",
   "execution_count": 5,
   "id": "01a867df",
   "metadata": {
    "execution": {
     "iopub.execute_input": "2023-03-28T07:52:35.273824Z",
     "iopub.status.busy": "2023-03-28T07:52:35.272577Z",
     "iopub.status.idle": "2023-03-28T11:43:43.859033Z",
     "shell.execute_reply": "2023-03-28T11:43:43.857262Z"
    },
    "papermill": {
     "duration": 13868.59464,
     "end_time": "2023-03-28T11:43:43.862812",
     "exception": false,
     "start_time": "2023-03-28T07:52:35.268172",
     "status": "completed"
    },
    "tags": []
   },
   "outputs": [
    {
     "name": "stdout",
     "output_type": "stream",
     "text": [
      "0.9352666666666666\n",
      "{'svc__C': 1.0, 'svc__gamma': 1.0, 'svc__kernel': 'rbf'}\n",
      "Test accuracy: 0.9354\n"
     ]
    }
   ],
   "source": [
    "pipe_svc = make_pipeline(StandardScaler(),\n",
    "                         PCA(n_components=7),\n",
    "                         SVC(random_state=1))\n",
    "param_C_range = [0.1, 1.0, 10.0]\n",
    "param_gama_range = [0.01, 0.1, 1.0]\n",
    "param_grid = [{'svc__C': param_C_range, \n",
    "               'svc__gamma': param_gama_range, \n",
    "               'svc__kernel': ['rbf']}]\n",
    "gs = GridSearchCV(estimator=pipe_svc, \n",
    "                  param_grid=param_grid, \n",
    "                  scoring='accuracy', \n",
    "                  refit=True,\n",
    "                  cv=5,\n",
    "                  n_jobs=-1)\n",
    "gs = gs.fit(X_train, y_train)\n",
    "print(gs.best_score_)\n",
    "print(gs.best_params_)\n",
    "\n",
    "clf = gs.best_estimator_\n",
    "print('Test accuracy: %.4f' % clf.score(X_test, y_test))"
   ]
  }
 ],
 "metadata": {
  "kernelspec": {
   "display_name": "Python 3",
   "language": "python",
   "name": "python3"
  },
  "language_info": {
   "codemirror_mode": {
    "name": "ipython",
    "version": 3
   },
   "file_extension": ".py",
   "mimetype": "text/x-python",
   "name": "python",
   "nbconvert_exporter": "python",
   "pygments_lexer": "ipython3",
   "version": "3.7.12"
  },
  "papermill": {
   "default_parameters": {},
   "duration": 13884.526746,
   "end_time": "2023-03-28T11:43:46.519230",
   "environment_variables": {},
   "exception": null,
   "input_path": "__notebook__.ipynb",
   "output_path": "__notebook__.ipynb",
   "parameters": {},
   "start_time": "2023-03-28T07:52:21.992484",
   "version": "2.4.0"
  }
 },
 "nbformat": 4,
 "nbformat_minor": 5
}
